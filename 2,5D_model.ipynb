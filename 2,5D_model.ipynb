{
 "cells": [
  {
   "cell_type": "code",
   "execution_count": 45,
   "metadata": {},
   "outputs": [],
   "source": [
    "import os\n",
    "import random\n",
    "\n",
    "os.environ['TF_CPP_MIN_LOG_LEVEL'] = '3' \n",
    "\n",
    "import cv2\n",
    "import matplotlib.pyplot as plt\n",
    "import nibabel as nib\n",
    "import numpy as np\n",
    "import pandas as pd\n",
    "import seaborn as sn\n",
    "import tensorflow as tf\n",
    "import wandb\n",
    "\n",
    "from ipywidgets import IntSlider, interact\n",
    "from matplotlib import animation, rc\n",
    "from matplotlib.patches import PathPatch, Rectangle\n",
    "from matplotlib.path import Path\n",
    "from scipy import ndimage\n",
    "from scipy.ndimage import zoom\n",
    "from sklearn.metrics import classification_report, confusion_matrix\n",
    "from sklearn.model_selection import StratifiedShuffleSplit\n",
    "from keras import Input, Model\n",
    "from keras.callbacks import EarlyStopping, ModelCheckpoint, ReduceLROnPlateau\n",
    "from keras.layers import (BatchNormalization, Conv3D, Dense,\n",
    "                                     Dropout, GlobalAveragePooling3D,\n",
    "                                     MaxPool3D, MaxPooling3D, GlobalAveragePooling2D, Conv2D, MaxPool2D, Flatten, AveragePooling2D)\n",
    "\n",
    "from keras.optimizers import Adam\n",
    "from wandb.keras import WandbCallback\n",
    "\n",
    "# import keras_applications_3d as ka3d\n",
    "# from keras_applications_3d import vgg16, vgg19, resnet, resnet_v2, densenet\n",
    "\n",
    "from keras.applications.vgg16 import VGG16,preprocess_input\n",
    "\n",
    "\n",
    "import splitfolders\n",
    "import nibabel as nib"
   ]
  },
  {
   "cell_type": "markdown",
   "metadata": {},
   "source": [
    "Data loading and preprocessing"
   ]
  },
  {
   "cell_type": "code",
   "execution_count": 46,
   "metadata": {},
   "outputs": [],
   "source": [
    "data_dir = \"data/\"\n",
    "nb_classes = 4\n"
   ]
  },
  {
   "cell_type": "code",
   "execution_count": 47,
   "metadata": {},
   "outputs": [
    {
     "name": "stdout",
     "output_type": "stream",
     "text": [
      "(181, 217, 181)\n"
     ]
    }
   ],
   "source": [
    "file = \"./lib/n_mmni_fADNI_002_S_0295_1.5T_t1w.nii.gz\"\n",
    "def read_nifti_file(filepath):\n",
    "    return nib.load(filepath)   \n",
    "print(read_nifti_file(file).shape)\n"
   ]
  },
  {
   "cell_type": "markdown",
   "metadata": {},
   "source": [
    "Class Distribution"
   ]
  },
  {
   "cell_type": "code",
   "execution_count": 48,
   "metadata": {},
   "outputs": [],
   "source": [
    "# TODO - functions to load data and labels : files are in /lib folder and they are names as follows: [class][id][mask or not].nii.gz, for each mri image there is a mask image with the same id and class and we need to multiply them to get the final masked image \n",
    "\n",
    "\n",
    "def arrange_data():\n",
    "    if not os.path.exists(\"./lib/AD\"):\n",
    "        os.mkdir(\"./lib/AD\")\n",
    "    if not os.path.exists(\"./lib/CN\"):\n",
    "        os.mkdir(\"./lib/CN\")\n",
    "    if not os.path.exists(\"./lib/PMCI\"):\n",
    "        os.mkdir(\"./lib/PMCI\")\n",
    "    if not os.path.exists(\"./lib/SMCI\"):\n",
    "        os.mkdir(\"./lib/SMCI\")\n",
    "    for file in os.listdir(\"./lib\"):\n",
    "        if file.endswith(\".nii.gz\") and not file.endswith(\"-mask.nii.gz\"):\n",
    "            if file.startswith(\"AD\"):\n",
    "                os.rename(\"./lib/\"+file, \"./lib/AD/\"+file)\n",
    "            elif file.startswith(\"CN\"):\n",
    "                os.rename(\"./lib/\"+file, \"./lib/CN/\"+file)\n",
    "            elif file.startswith(\"PMCI\"):\n",
    "                os.rename(\"./lib/\"+file, \"./lib/PMCI/\"+file)\n",
    "            elif file.startswith(\"SMCI\"):\n",
    "                os.rename(\"./lib/\"+file, \"./lib/SMCI/\"+file)\n",
    "arrange_data()\n",
    "\n",
    "# use splitfolders library to split data into train, validation and test folders\n",
    "if not os.path.exists(\"./data\"):\n",
    "    splitfolders.ratio('./lib', output=\"./data\", seed=1337, ratio=(.8, .2), group_prefix=None) # default values\n",
    "  \n",
    "     "
   ]
  },
  {
   "cell_type": "code",
   "execution_count": 49,
   "metadata": {},
   "outputs": [
    {
     "name": "stdout",
     "output_type": "stream",
     "text": [
      "Train set size:  572\n",
      "Validation set size:  146\n"
     ]
    }
   ],
   "source": [
    "# Create train set generator for .nii.gz files\n",
    "\n",
    "train_set = []\n",
    "train_labels = []\n",
    "for file in os.listdir(\"./data/train/AD\"):\n",
    "    if file.endswith(\".nii.gz\") and not file.endswith(\"-mask.nii.gz\"):\n",
    "        train_set.append(\"./data/train/AD/\"+file)\n",
    "        train_labels.append(0)\n",
    "for file in os.listdir(\"./data/train/CN\"):\n",
    "    if file.endswith(\".nii.gz\") and not file.endswith(\"-mask.nii.gz\"):\n",
    "        train_set.append(\"./data/train/CN/\"+file)\n",
    "        train_labels.append(1)\n",
    "for file in os.listdir(\"./data/train/PMCI\"):\n",
    "    if file.endswith(\".nii.gz\") and not file.endswith(\"-mask.nii.gz\"):\n",
    "        train_set.append(\"./data/train/PMCI/\"+file)\n",
    "        train_labels.append(2)\n",
    "for file in os.listdir(\"./data/train/SMCI\"):\n",
    "    if file.endswith(\".nii.gz\") and not file.endswith(\"-mask.nii.gz\"):\n",
    "        train_set.append(\"./data/train/SMCI/\"+file)\n",
    "        train_labels.append(3)\n",
    "        \n",
    "# Create validation set generator for .nii.gz files\n",
    "val_set = []\n",
    "val_labels = []\n",
    "for file in os.listdir(\"./data/val/AD\"):\n",
    "    if file.endswith(\".nii.gz\") and not file.endswith(\"-mask.nii.gz\"):\n",
    "        val_set.append(\"./data/val/AD/\"+file)\n",
    "        val_labels.append(0)\n",
    "for file in os.listdir(\"./data/val/CN\"):\n",
    "    if file.endswith(\".nii.gz\") and not file.endswith(\"-mask.nii.gz\"):\n",
    "        val_set.append(\"./data/val/CN/\"+file)\n",
    "        val_labels.append(1)\n",
    "for file in os.listdir(\"./data/val/PMCI\"):\n",
    "    if file.endswith(\".nii.gz\") and not file.endswith(\"-mask.nii.gz\"):\n",
    "        val_set.append(\"./data/val/PMCI/\"+file)\n",
    "        val_labels.append(2)\n",
    "for file in os.listdir(\"./data/val/SMCI\"):\n",
    "    if file.endswith(\".nii.gz\") and not file.endswith(\"-mask.nii.gz\"):\n",
    "        val_set.append(\"./data/val/SMCI/\"+file)\n",
    "        val_labels.append(3)\n",
    "        \n",
    "print(\"Train set size: \", len(train_set))\n",
    "print(\"Validation set size: \", len(val_set))\n",
    "    "
   ]
  },
  {
   "cell_type": "markdown",
   "metadata": {},
   "source": [
    "Build Train and Validation Datasets"
   ]
  },
  {
   "cell_type": "code",
   "execution_count": 50,
   "metadata": {},
   "outputs": [],
   "source": [
    "# TODO - build train, validation, test sets"
   ]
  },
  {
   "cell_type": "markdown",
   "metadata": {},
   "source": [
    "Data Augmentation"
   ]
  },
  {
   "cell_type": "markdown",
   "metadata": {},
   "source": [
    "Les données originales sont représentées sous la forme de tenseurs tridimensionnels avec des dimensions (samples, height, width, depth). Cependant, afin de permettre l'utilisation de convolutions 3D sur ces données, nous devons ajouter une dimension supplémentaire à nos tenseurs. Cette dimension est ajoutée à l'axe 4, qui représente le nombre de canaux. En général quand on traite des images 2D en couleurs on a 3 canaux pour le RGB, ici on traite des images 3D en pseudo NB. Donc en ajoutant une dimension, les données sont transformées en tenseurs de forme (samples, height, width, depth, 1)"
   ]
  },
  {
   "cell_type": "code",
   "execution_count": 51,
   "metadata": {},
   "outputs": [
    {
     "name": "stdout",
     "output_type": "stream",
     "text": [
      "Data shape:  181 217 181 1\n"
     ]
    }
   ],
   "source": [
    "# TODO - Add a dimension to the data to make it 4D (for the channel)\n",
    "def dim_augmentation(data):\n",
    "    data = np.expand_dims(data, axis=3)\n",
    "    return data\n",
    "height, width, depth, _ = dim_augmentation(read_nifti_file(train_set[0]).get_fdata()).shape\n",
    "print(\"Data shape: \", height, width, depth, _)\n",
    "\n",
    "def get_HC(irm):\n",
    "    hc1 = irm[40:80, 90:130, 40:80]\n",
    "    hc2 = irm[100:140, 90:130, 40:80]\n",
    "    return hc1, hc2"
   ]
  },
  {
   "cell_type": "code",
   "execution_count": 52,
   "metadata": {},
   "outputs": [],
   "source": [
    "from keras.utils import Sequence\n",
    "\n",
    "class NiiSequence(Sequence):\n",
    "    def __init__(self, file_paths, batch_size):\n",
    "        self.file_paths = file_paths\n",
    "        self.batch_size = batch_size\n",
    "\n",
    "    def __len__(self):\n",
    "        return int(np.ceil(len(self.file_paths) / self.batch_size))\n",
    "\n",
    "    def __getitem__(self, idx):\n",
    "        batch_paths = self.file_paths[idx * self.batch_size:(idx + 1) * self.batch_size]\n",
    "\n",
    "        # Charger et prétraiter les données\n",
    "        batch_data = [self.load_and_preprocess(path) for path in batch_paths]\n",
    "\n",
    "        # Convertir la liste en un tableau NumPy\n",
    "        batch_data = np.array(batch_data)\n",
    "\n",
    "        # Créer les étiquettes correspondantes\n",
    "        batch_labels = [self.extract_label(path) for path in batch_paths]\n",
    "\n",
    "        # Convertir les étiquettes en tableau NumPy et les encoder en one-hot\n",
    "        batch_labels = np.eye(nb_classes)[batch_labels]\n",
    "\n",
    "        return batch_data, batch_labels\n",
    "        \n",
    "    def extract_label(self, file_path):\n",
    "        # Adapté à votre structure de répertoire\n",
    "        class_name = os.path.basename(os.path.dirname(file_path))\n",
    "        # Convertir le nom de la classe en une représentation one-hot si nécessaire\n",
    "        label = {\"AD\": 0, \"CN\": 1, \"PMCI\": 2, \"SMCI\": 3}[class_name]\n",
    "        return label\n",
    "\n",
    "    def load_and_preprocess(self, file_path):\n",
    "        data = read_nifti_file(file_path).get_fdata()\n",
    "        \n",
    "        slice1 = data[30:155,60,10:160]\n",
    "        slice2 = data[30:155,70,10:160]\n",
    "        slice3 = data[30:155,70,10:160]\n",
    "\n",
    "        # Stack the slices to create a 3-channel image\n",
    "        image = np.stack((slice1, slice2, slice3), axis=-1)\n",
    "        \n",
    "\n",
    "        return image\n",
    "\n",
    "# Exemple d'utilisation\n",
    "batch_size = 32\n",
    "\n",
    "train_sequence = NiiSequence(train_set, batch_size)\n",
    "val_sequence = NiiSequence(val_set, batch_size)\n",
    "\n",
    "\n"
   ]
  },
  {
   "cell_type": "markdown",
   "metadata": {},
   "source": [
    "Scan Visualization"
   ]
  },
  {
   "cell_type": "code",
   "execution_count": 53,
   "metadata": {},
   "outputs": [],
   "source": [
    "# MRI images are composed by many slices, build a montage of the them\n",
    "\n",
    "def show_2D(irm, slice, axe):\n",
    "    if axe == \"x\":\n",
    "        plt.imshow(irm[slice,:,:], cmap=\"gray\")\n",
    "    elif axe == \"y\":\n",
    "        plt.imshow(irm[:,slice,:], cmap=\"gray\")\n",
    "    elif axe == \"z\":\n",
    "        plt.imshow(irm[:,:,slice], cmap=\"gray\")\n",
    "    plt.title(\"Slice number : \" + str(slice) + \" on axe \" + axe)\n",
    "    plt.show()\n",
    "    \n",
    "img = read_nifti_file(train_set[0])\n",
    "# show_2D(img.get_fdata(), 60, \"x\")\n",
    "# show_2D(img.get_fdata(), 100, \"y\")\n",
    "# show_2D(img.get_fdata(), 95, \"z\")"
   ]
  },
  {
   "cell_type": "markdown",
   "metadata": {},
   "source": [
    "Imbalanced Data"
   ]
  },
  {
   "cell_type": "code",
   "execution_count": 54,
   "metadata": {},
   "outputs": [
    {
     "name": "stdout",
     "output_type": "stream",
     "text": [
      "{'AD': 191, 'CN': 227, 'PMCI': 171, 'SMCI': 129}\n"
     ]
    },
    {
     "data": {
      "image/png": "[encoded data removed]",
      "text/plain": [
       "<Figure size 1000x500 with 1 Axes>"
      ]
     },
     "metadata": {},
     "output_type": "display_data"
    }
   ],
   "source": [
    "## Calculate number of samples in each class.\n",
    "input_folder = 'lib'\n",
    "class_counts = dict()\n",
    "class_names = [\"AD\", \"CN\", \"PMCI\", \"SMCI\"]\n",
    "for folder in class_names:\n",
    "    class_counts[folder] = len(os.listdir(input_folder+'/'+folder))\n",
    "\n",
    "print(class_counts)\n",
    "\n",
    "# plot the number of samples in each class\n",
    "plt.figure(figsize=(10, 5))\n",
    "plt.bar(class_counts.keys(), class_counts.values())\n",
    "plt.title('Number of samples in each class')\n",
    "plt.show()"
   ]
  },
  {
   "cell_type": "markdown",
   "metadata": {},
   "source": [
    "3D Convolutional Neural Network"
   ]
  },
  {
   "cell_type": "code",
   "execution_count": 55,
   "metadata": {},
   "outputs": [
    {
     "ename": "ValueError",
     "evalue": "Input 0 of layer \"conv2d_4\" is incompatible with the layer: expected min_ndim=4, found ndim=2. Full shape received: (None, 1024)",
     "output_type": "error",
     "traceback": [
      "\u001b[0;31m---------------------------------------------------------------------------\u001b[0m",
      "\u001b[0;31mValueError\u001b[0m                                Traceback (most recent call last)",
      "\u001b[1;32m/home/felicien/Documents/Enseirb/3A/computer_vision/projet/Computer_vision_Alzheimer_detection/2,5D_model.ipynb Cell 19\u001b[0m line \u001b[0;36m3\n\u001b[1;32m     <a href='vscode-notebook-cell://wsl%2Bubuntu/home/felicien/Documents/Enseirb/3A/computer_vision/projet/Computer_vision_Alzheimer_detection/2%2C5D_model.ipynb#X24sdnNjb2RlLXJlbW90ZQ%3D%3D?line=11'>12</a>\u001b[0m     \u001b[39mreturn\u001b[39;00m tf\u001b[39m.\u001b[39mkeras\u001b[39m.\u001b[39mSequential([\n\u001b[1;32m     <a href='vscode-notebook-cell://wsl%2Bubuntu/home/felicien/Documents/Enseirb/3A/computer_vision/projet/Computer_vision_Alzheimer_detection/2%2C5D_model.ipynb#X24sdnNjb2RlLXJlbW90ZQ%3D%3D?line=12'>13</a>\u001b[0m         base_model, \n\u001b[1;32m     <a href='vscode-notebook-cell://wsl%2Bubuntu/home/felicien/Documents/Enseirb/3A/computer_vision/projet/Computer_vision_Alzheimer_detection/2%2C5D_model.ipynb#X24sdnNjb2RlLXJlbW90ZQ%3D%3D?line=13'>14</a>\u001b[0m         global_average_layer,\n\u001b[0;32m   (...)\u001b[0m\n\u001b[1;32m     <a href='vscode-notebook-cell://wsl%2Bubuntu/home/felicien/Documents/Enseirb/3A/computer_vision/projet/Computer_vision_Alzheimer_detection/2%2C5D_model.ipynb#X24sdnNjb2RlLXJlbW90ZQ%3D%3D?line=31'>32</a>\u001b[0m         prediction_layer\n\u001b[1;32m     <a href='vscode-notebook-cell://wsl%2Bubuntu/home/felicien/Documents/Enseirb/3A/computer_vision/projet/Computer_vision_Alzheimer_detection/2%2C5D_model.ipynb#X24sdnNjb2RlLXJlbW90ZQ%3D%3D?line=32'>33</a>\u001b[0m         ])\n\u001b[1;32m     <a href='vscode-notebook-cell://wsl%2Bubuntu/home/felicien/Documents/Enseirb/3A/computer_vision/projet/Computer_vision_Alzheimer_detection/2%2C5D_model.ipynb#X24sdnNjb2RlLXJlbW90ZQ%3D%3D?line=35'>36</a>\u001b[0m \u001b[39m# Build model.\u001b[39;00m\n\u001b[0;32m---> <a href='vscode-notebook-cell://wsl%2Bubuntu/home/felicien/Documents/Enseirb/3A/computer_vision/projet/Computer_vision_Alzheimer_detection/2%2C5D_model.ipynb#X24sdnNjb2RlLXJlbW90ZQ%3D%3D?line=36'>37</a>\u001b[0m model \u001b[39m=\u001b[39m get_model(height\u001b[39m=\u001b[39;49m\u001b[39m125\u001b[39;49m, width\u001b[39m=\u001b[39;49m\u001b[39m150\u001b[39;49m)\n\u001b[1;32m     <a href='vscode-notebook-cell://wsl%2Bubuntu/home/felicien/Documents/Enseirb/3A/computer_vision/projet/Computer_vision_Alzheimer_detection/2%2C5D_model.ipynb#X24sdnNjb2RlLXJlbW90ZQ%3D%3D?line=37'>38</a>\u001b[0m model\u001b[39m.\u001b[39msummary()\n",
      "\u001b[1;32m/home/felicien/Documents/Enseirb/3A/computer_vision/projet/Computer_vision_Alzheimer_detection/2,5D_model.ipynb Cell 19\u001b[0m line \u001b[0;36m1\n\u001b[1;32m      <a href='vscode-notebook-cell://wsl%2Bubuntu/home/felicien/Documents/Enseirb/3A/computer_vision/projet/Computer_vision_Alzheimer_detection/2%2C5D_model.ipynb#X24sdnNjb2RlLXJlbW90ZQ%3D%3D?line=7'>8</a>\u001b[0m global_average_layer \u001b[39m=\u001b[39m GlobalAveragePooling2D()\n\u001b[1;32m     <a href='vscode-notebook-cell://wsl%2Bubuntu/home/felicien/Documents/Enseirb/3A/computer_vision/projet/Computer_vision_Alzheimer_detection/2%2C5D_model.ipynb#X24sdnNjb2RlLXJlbW90ZQ%3D%3D?line=9'>10</a>\u001b[0m prediction_layer \u001b[39m=\u001b[39m Dense(\u001b[39m4\u001b[39m,activation\u001b[39m=\u001b[39m\u001b[39m'\u001b[39m\u001b[39msoftmax\u001b[39m\u001b[39m'\u001b[39m)\n\u001b[0;32m---> <a href='vscode-notebook-cell://wsl%2Bubuntu/home/felicien/Documents/Enseirb/3A/computer_vision/projet/Computer_vision_Alzheimer_detection/2%2C5D_model.ipynb#X24sdnNjb2RlLXJlbW90ZQ%3D%3D?line=11'>12</a>\u001b[0m \u001b[39mreturn\u001b[39;00m tf\u001b[39m.\u001b[39;49mkeras\u001b[39m.\u001b[39;49mSequential([\n\u001b[1;32m     <a href='vscode-notebook-cell://wsl%2Bubuntu/home/felicien/Documents/Enseirb/3A/computer_vision/projet/Computer_vision_Alzheimer_detection/2%2C5D_model.ipynb#X24sdnNjb2RlLXJlbW90ZQ%3D%3D?line=12'>13</a>\u001b[0m     base_model, \n\u001b[1;32m     <a href='vscode-notebook-cell://wsl%2Bubuntu/home/felicien/Documents/Enseirb/3A/computer_vision/projet/Computer_vision_Alzheimer_detection/2%2C5D_model.ipynb#X24sdnNjb2RlLXJlbW90ZQ%3D%3D?line=13'>14</a>\u001b[0m     global_average_layer,\n\u001b[1;32m     <a href='vscode-notebook-cell://wsl%2Bubuntu/home/felicien/Documents/Enseirb/3A/computer_vision/projet/Computer_vision_Alzheimer_detection/2%2C5D_model.ipynb#X24sdnNjb2RlLXJlbW90ZQ%3D%3D?line=14'>15</a>\u001b[0m     Dense(\u001b[39m1024\u001b[39;49m, activation\u001b[39m=\u001b[39;49m\u001b[39m'\u001b[39;49m\u001b[39mrelu\u001b[39;49m\u001b[39m'\u001b[39;49m),        \n\u001b[1;32m     <a href='vscode-notebook-cell://wsl%2Bubuntu/home/felicien/Documents/Enseirb/3A/computer_vision/projet/Computer_vision_Alzheimer_detection/2%2C5D_model.ipynb#X24sdnNjb2RlLXJlbW90ZQ%3D%3D?line=15'>16</a>\u001b[0m     BatchNormalization(),\n\u001b[1;32m     <a href='vscode-notebook-cell://wsl%2Bubuntu/home/felicien/Documents/Enseirb/3A/computer_vision/projet/Computer_vision_Alzheimer_detection/2%2C5D_model.ipynb#X24sdnNjb2RlLXJlbW90ZQ%3D%3D?line=16'>17</a>\u001b[0m     Conv2D(\u001b[39m64\u001b[39;49m, (\u001b[39m3\u001b[39;49m, \u001b[39m3\u001b[39;49m), activation\u001b[39m=\u001b[39;49m\u001b[39m'\u001b[39;49m\u001b[39mrelu\u001b[39;49m\u001b[39m'\u001b[39;49m),\n\u001b[1;32m     <a href='vscode-notebook-cell://wsl%2Bubuntu/home/felicien/Documents/Enseirb/3A/computer_vision/projet/Computer_vision_Alzheimer_detection/2%2C5D_model.ipynb#X24sdnNjb2RlLXJlbW90ZQ%3D%3D?line=17'>18</a>\u001b[0m     MaxPool2D((\u001b[39m2\u001b[39;49m, \u001b[39m2\u001b[39;49m)),\n\u001b[1;32m     <a href='vscode-notebook-cell://wsl%2Bubuntu/home/felicien/Documents/Enseirb/3A/computer_vision/projet/Computer_vision_Alzheimer_detection/2%2C5D_model.ipynb#X24sdnNjb2RlLXJlbW90ZQ%3D%3D?line=18'>19</a>\u001b[0m     Dropout(\u001b[39m0.2\u001b[39;49m),\n\u001b[1;32m     <a href='vscode-notebook-cell://wsl%2Bubuntu/home/felicien/Documents/Enseirb/3A/computer_vision/projet/Computer_vision_Alzheimer_detection/2%2C5D_model.ipynb#X24sdnNjb2RlLXJlbW90ZQ%3D%3D?line=19'>20</a>\u001b[0m     Conv2D(\u001b[39m64\u001b[39;49m, (\u001b[39m3\u001b[39;49m, \u001b[39m3\u001b[39;49m), activation\u001b[39m=\u001b[39;49m\u001b[39m'\u001b[39;49m\u001b[39mrelu\u001b[39;49m\u001b[39m'\u001b[39;49m),\n\u001b[1;32m     <a href='vscode-notebook-cell://wsl%2Bubuntu/home/felicien/Documents/Enseirb/3A/computer_vision/projet/Computer_vision_Alzheimer_detection/2%2C5D_model.ipynb#X24sdnNjb2RlLXJlbW90ZQ%3D%3D?line=20'>21</a>\u001b[0m     Dropout(\u001b[39m0.2\u001b[39;49m),\n\u001b[1;32m     <a href='vscode-notebook-cell://wsl%2Bubuntu/home/felicien/Documents/Enseirb/3A/computer_vision/projet/Computer_vision_Alzheimer_detection/2%2C5D_model.ipynb#X24sdnNjb2RlLXJlbW90ZQ%3D%3D?line=21'>22</a>\u001b[0m     BatchNormalization(),  \n\u001b[1;32m     <a href='vscode-notebook-cell://wsl%2Bubuntu/home/felicien/Documents/Enseirb/3A/computer_vision/projet/Computer_vision_Alzheimer_detection/2%2C5D_model.ipynb#X24sdnNjb2RlLXJlbW90ZQ%3D%3D?line=22'>23</a>\u001b[0m     Dense(\u001b[39m2048\u001b[39;49m, activation\u001b[39m=\u001b[39;49m\u001b[39m'\u001b[39;49m\u001b[39mrelu\u001b[39;49m\u001b[39m'\u001b[39;49m),\n\u001b[1;32m     <a href='vscode-notebook-cell://wsl%2Bubuntu/home/felicien/Documents/Enseirb/3A/computer_vision/projet/Computer_vision_Alzheimer_detection/2%2C5D_model.ipynb#X24sdnNjb2RlLXJlbW90ZQ%3D%3D?line=23'>24</a>\u001b[0m     Dropout(\u001b[39m0.2\u001b[39;49m),\n\u001b[1;32m     <a href='vscode-notebook-cell://wsl%2Bubuntu/home/felicien/Documents/Enseirb/3A/computer_vision/projet/Computer_vision_Alzheimer_detection/2%2C5D_model.ipynb#X24sdnNjb2RlLXJlbW90ZQ%3D%3D?line=24'>25</a>\u001b[0m     BatchNormalization(), \n\u001b[1;32m     <a href='vscode-notebook-cell://wsl%2Bubuntu/home/felicien/Documents/Enseirb/3A/computer_vision/projet/Computer_vision_Alzheimer_detection/2%2C5D_model.ipynb#X24sdnNjb2RlLXJlbW90ZQ%3D%3D?line=25'>26</a>\u001b[0m     Dense(\u001b[39m512\u001b[39;49m, activation\u001b[39m=\u001b[39;49m\u001b[39m'\u001b[39;49m\u001b[39mrelu\u001b[39;49m\u001b[39m'\u001b[39;49m),\n\u001b[1;32m     <a href='vscode-notebook-cell://wsl%2Bubuntu/home/felicien/Documents/Enseirb/3A/computer_vision/projet/Computer_vision_Alzheimer_detection/2%2C5D_model.ipynb#X24sdnNjb2RlLXJlbW90ZQ%3D%3D?line=26'>27</a>\u001b[0m     BatchNormalization(), \n\u001b[1;32m     <a href='vscode-notebook-cell://wsl%2Bubuntu/home/felicien/Documents/Enseirb/3A/computer_vision/projet/Computer_vision_Alzheimer_detection/2%2C5D_model.ipynb#X24sdnNjb2RlLXJlbW90ZQ%3D%3D?line=27'>28</a>\u001b[0m     Dense(\u001b[39m256\u001b[39;49m, activation\u001b[39m=\u001b[39;49m\u001b[39m'\u001b[39;49m\u001b[39mrelu\u001b[39;49m\u001b[39m'\u001b[39;49m),\n\u001b[1;32m     <a href='vscode-notebook-cell://wsl%2Bubuntu/home/felicien/Documents/Enseirb/3A/computer_vision/projet/Computer_vision_Alzheimer_detection/2%2C5D_model.ipynb#X24sdnNjb2RlLXJlbW90ZQ%3D%3D?line=28'>29</a>\u001b[0m     Dropout(\u001b[39m0.2\u001b[39;49m),\n\u001b[1;32m     <a href='vscode-notebook-cell://wsl%2Bubuntu/home/felicien/Documents/Enseirb/3A/computer_vision/projet/Computer_vision_Alzheimer_detection/2%2C5D_model.ipynb#X24sdnNjb2RlLXJlbW90ZQ%3D%3D?line=29'>30</a>\u001b[0m     BatchNormalization(), \n\u001b[1;32m     <a href='vscode-notebook-cell://wsl%2Bubuntu/home/felicien/Documents/Enseirb/3A/computer_vision/projet/Computer_vision_Alzheimer_detection/2%2C5D_model.ipynb#X24sdnNjb2RlLXJlbW90ZQ%3D%3D?line=30'>31</a>\u001b[0m     Dense(\u001b[39m64\u001b[39;49m, activation\u001b[39m=\u001b[39;49m\u001b[39m'\u001b[39;49m\u001b[39mrelu\u001b[39;49m\u001b[39m'\u001b[39;49m),       \n\u001b[1;32m     <a href='vscode-notebook-cell://wsl%2Bubuntu/home/felicien/Documents/Enseirb/3A/computer_vision/projet/Computer_vision_Alzheimer_detection/2%2C5D_model.ipynb#X24sdnNjb2RlLXJlbW90ZQ%3D%3D?line=31'>32</a>\u001b[0m     prediction_layer\n\u001b[1;32m     <a href='vscode-notebook-cell://wsl%2Bubuntu/home/felicien/Documents/Enseirb/3A/computer_vision/projet/Computer_vision_Alzheimer_detection/2%2C5D_model.ipynb#X24sdnNjb2RlLXJlbW90ZQ%3D%3D?line=32'>33</a>\u001b[0m     ])\n",
      "File \u001b[0;32m~/.local/lib/python3.8/site-packages/tensorflow/python/trackable/base.py:204\u001b[0m, in \u001b[0;36mno_automatic_dependency_tracking.<locals>._method_wrapper\u001b[0;34m(self, *args, **kwargs)\u001b[0m\n\u001b[1;32m    202\u001b[0m \u001b[39mself\u001b[39m\u001b[39m.\u001b[39m_self_setattr_tracking \u001b[39m=\u001b[39m \u001b[39mFalse\u001b[39;00m  \u001b[39m# pylint: disable=protected-access\u001b[39;00m\n\u001b[1;32m    203\u001b[0m \u001b[39mtry\u001b[39;00m:\n\u001b[0;32m--> 204\u001b[0m   result \u001b[39m=\u001b[39m method(\u001b[39mself\u001b[39;49m, \u001b[39m*\u001b[39;49margs, \u001b[39m*\u001b[39;49m\u001b[39m*\u001b[39;49mkwargs)\n\u001b[1;32m    205\u001b[0m \u001b[39mfinally\u001b[39;00m:\n\u001b[1;32m    206\u001b[0m   \u001b[39mself\u001b[39m\u001b[39m.\u001b[39m_self_setattr_tracking \u001b[39m=\u001b[39m previous_value  \u001b[39m# pylint: disable=protected-access\u001b[39;00m\n",
      "File \u001b[0;32m~/.local/lib/python3.8/site-packages/keras/src/utils/traceback_utils.py:70\u001b[0m, in \u001b[0;36mfilter_traceback.<locals>.error_handler\u001b[0;34m(*args, **kwargs)\u001b[0m\n\u001b[1;32m     67\u001b[0m     filtered_tb \u001b[39m=\u001b[39m _process_traceback_frames(e\u001b[39m.\u001b[39m__traceback__)\n\u001b[1;32m     68\u001b[0m     \u001b[39m# To get the full stack trace, call:\u001b[39;00m\n\u001b[1;32m     69\u001b[0m     \u001b[39m# `tf.debugging.disable_traceback_filtering()`\u001b[39;00m\n\u001b[0;32m---> 70\u001b[0m     \u001b[39mraise\u001b[39;00m e\u001b[39m.\u001b[39mwith_traceback(filtered_tb) \u001b[39mfrom\u001b[39;00m \u001b[39mNone\u001b[39;00m\n\u001b[1;32m     71\u001b[0m \u001b[39mfinally\u001b[39;00m:\n\u001b[1;32m     72\u001b[0m     \u001b[39mdel\u001b[39;00m filtered_tb\n",
      "File \u001b[0;32m~/.local/lib/python3.8/site-packages/keras/src/engine/input_spec.py:253\u001b[0m, in \u001b[0;36massert_input_compatibility\u001b[0;34m(input_spec, inputs, layer_name)\u001b[0m\n\u001b[1;32m    251\u001b[0m     ndim \u001b[39m=\u001b[39m x\u001b[39m.\u001b[39mshape\u001b[39m.\u001b[39mrank\n\u001b[1;32m    252\u001b[0m     \u001b[39mif\u001b[39;00m ndim \u001b[39mis\u001b[39;00m \u001b[39mnot\u001b[39;00m \u001b[39mNone\u001b[39;00m \u001b[39mand\u001b[39;00m ndim \u001b[39m<\u001b[39m spec\u001b[39m.\u001b[39mmin_ndim:\n\u001b[0;32m--> 253\u001b[0m         \u001b[39mraise\u001b[39;00m \u001b[39mValueError\u001b[39;00m(\n\u001b[1;32m    254\u001b[0m             \u001b[39mf\u001b[39m\u001b[39m'\u001b[39m\u001b[39mInput \u001b[39m\u001b[39m{\u001b[39;00minput_index\u001b[39m}\u001b[39;00m\u001b[39m of layer \u001b[39m\u001b[39m\"\u001b[39m\u001b[39m{\u001b[39;00mlayer_name\u001b[39m}\u001b[39;00m\u001b[39m\"\u001b[39m\u001b[39m \u001b[39m\u001b[39m'\u001b[39m\n\u001b[1;32m    255\u001b[0m             \u001b[39m\"\u001b[39m\u001b[39mis incompatible with the layer: \u001b[39m\u001b[39m\"\u001b[39m\n\u001b[1;32m    256\u001b[0m             \u001b[39mf\u001b[39m\u001b[39m\"\u001b[39m\u001b[39mexpected min_ndim=\u001b[39m\u001b[39m{\u001b[39;00mspec\u001b[39m.\u001b[39mmin_ndim\u001b[39m}\u001b[39;00m\u001b[39m, \u001b[39m\u001b[39m\"\u001b[39m\n\u001b[1;32m    257\u001b[0m             \u001b[39mf\u001b[39m\u001b[39m\"\u001b[39m\u001b[39mfound ndim=\u001b[39m\u001b[39m{\u001b[39;00mndim\u001b[39m}\u001b[39;00m\u001b[39m. \u001b[39m\u001b[39m\"\u001b[39m\n\u001b[1;32m    258\u001b[0m             \u001b[39mf\u001b[39m\u001b[39m\"\u001b[39m\u001b[39mFull shape received: \u001b[39m\u001b[39m{\u001b[39;00m\u001b[39mtuple\u001b[39m(shape)\u001b[39m}\u001b[39;00m\u001b[39m\"\u001b[39m\n\u001b[1;32m    259\u001b[0m         )\n\u001b[1;32m    260\u001b[0m \u001b[39m# Check dtype.\u001b[39;00m\n\u001b[1;32m    261\u001b[0m \u001b[39mif\u001b[39;00m spec\u001b[39m.\u001b[39mdtype \u001b[39mis\u001b[39;00m \u001b[39mnot\u001b[39;00m \u001b[39mNone\u001b[39;00m:\n",
      "\u001b[0;31mValueError\u001b[0m: Input 0 of layer \"conv2d_4\" is incompatible with the layer: expected min_ndim=4, found ndim=2. Full shape received: (None, 1024)"
     ]
    }
   ],
   "source": [
    "def get_model(height=181, width=217):\n",
    "    base_model = VGG16(input_shape=(height, width, 3), \n",
    "                         include_top=False,\n",
    "                         weights=\"imagenet\")\n",
    "    for layer in base_model.layers:\n",
    "        layer.trainable= False\n",
    "        \n",
    "    global_average_layer = GlobalAveragePooling2D()\n",
    "\n",
    "    prediction_layer = Dense(4,activation='softmax')\n",
    "    \n",
    "    return tf.keras.Sequential([\n",
    "        base_model, \n",
    "        global_average_layer,\n",
    "        BatchNormalization(),  \n",
    "        Dense(2048, activation='relu'),\n",
    "        Dense(512, activation='relu'),\n",
    "        Dense(256, activation='relu'),\n",
    "        Dense(64, activation='relu'),\n",
    "        prediction_layer\n",
    "        ])\n",
    "\n",
    "\n",
    "# Build model.\n",
    "model = get_model(height=125, width=150)\n",
    "model.summary()"
   ]
  },
  {
   "cell_type": "markdown",
   "metadata": {},
   "source": [
    "Model training"
   ]
  },
  {
   "cell_type": "code",
   "execution_count": null,
   "metadata": {},
   "outputs": [],
   "source": [
    "# Compile model\n",
    "model.compile(optimizer='adam',\n",
    "               loss='categorical_crossentropy',\n",
    "               metrics=['accuracy', \n",
    "                        tf.keras.metrics.AUC(),\n",
    "                        tf.keras.metrics.Precision(),\n",
    "                        tf.keras.metrics.Recall(),\n",
    "                        ])\n"
   ]
  },
  {
   "cell_type": "code",
   "execution_count": null,
   "metadata": {},
   "outputs": [
    {
     "name": "stdout",
     "output_type": "stream",
     "text": [
      "Epoch 1/10\n",
      "18/18 [==============================] - 141s 8s/step - loss: 1.8737 - accuracy: 0.1066 - auc_1: 0.3913 - precision_1: 0.0108 - recall_1: 0.0035 - val_loss: 1.4933 - val_accuracy: 0.3082 - val_auc_1: 0.5633 - val_precision_1: 0.4167 - val_recall_1: 0.0685\n",
      "Epoch 2/10\n",
      "18/18 [==============================] - 119s 7s/step - loss: 1.4408 - accuracy: 0.1888 - auc_1: 0.4862 - precision_1: 0.0000e+00 - recall_1: 0.0000e+00 - val_loss: 1.3686 - val_accuracy: 0.3151 - val_auc_1: 0.5862 - val_precision_1: 0.0000e+00 - val_recall_1: 0.0000e+00\n",
      "Epoch 3/10\n",
      "18/18 [==============================] - 118s 7s/step - loss: 1.3709 - accuracy: 0.2675 - auc_1: 0.5698 - precision_1: 1.0000 - recall_1: 0.0070 - val_loss: 1.3770 - val_accuracy: 0.3151 - val_auc_1: 0.5925 - val_precision_1: 0.7500 - val_recall_1: 0.0205\n",
      "Epoch 4/10\n",
      "18/18 [==============================] - 134s 8s/step - loss: 1.2395 - accuracy: 0.4493 - auc_1: 0.7309 - precision_1: 1.0000 - recall_1: 0.0157 - val_loss: 1.3967 - val_accuracy: 0.2671 - val_auc_1: 0.5459 - val_precision_1: 1.0000 - val_recall_1: 0.0068\n",
      "Epoch 5/10\n",
      "18/18 [==============================] - 116s 7s/step - loss: 1.2223 - accuracy: 0.5052 - auc_1: 0.7397 - precision_1: 0.9444 - recall_1: 0.0297 - val_loss: 1.3729 - val_accuracy: 0.3014 - val_auc_1: 0.5711 - val_precision_1: 0.6000 - val_recall_1: 0.0205\n",
      "Epoch 6/10\n",
      "18/18 [==============================] - 120s 7s/step - loss: 1.2503 - accuracy: 0.4318 - auc_1: 0.7035 - precision_1: 0.4886 - recall_1: 0.2622 - val_loss: 1.3822 - val_accuracy: 0.2671 - val_auc_1: 0.5514 - val_precision_1: 0.0000e+00 - val_recall_1: 0.0000e+00\n",
      "Epoch 7/10\n",
      "18/18 [==============================] - 120s 7s/step - loss: 1.1501 - accuracy: 0.5035 - auc_1: 0.7713 - precision_1: 0.8333 - recall_1: 0.0350 - val_loss: 1.4113 - val_accuracy: 0.3356 - val_auc_1: 0.5582 - val_precision_1: 0.5000 - val_recall_1: 0.0205\n",
      "Epoch 8/10\n",
      "18/18 [==============================] - 120s 7s/step - loss: 0.7942 - accuracy: 0.6451 - auc_1: 0.8979 - precision_1: 0.7073 - recall_1: 0.4563 - val_loss: 1.8279 - val_accuracy: 0.2671 - val_auc_1: 0.5075 - val_precision_1: 0.2877 - val_recall_1: 0.1438\n",
      "Epoch 9/10\n",
      "18/18 [==============================] - 137s 8s/step - loss: 0.7771 - accuracy: 0.7010 - auc_1: 0.8954 - precision_1: 0.7673 - recall_1: 0.5997 - val_loss: 2.0765 - val_accuracy: 0.3082 - val_auc_1: 0.5145 - val_precision_1: 0.3040 - val_recall_1: 0.2603\n",
      "Epoch 10/10\n",
      "18/18 [==============================] - 121s 7s/step - loss: 0.5425 - accuracy: 0.8199 - auc_1: 0.9443 - precision_1: 0.8312 - recall_1: 0.7832 - val_loss: 2.5923 - val_accuracy: 0.2466 - val_auc_1: 0.5293 - val_precision_1: 0.2555 - val_recall_1: 0.2397\n"
     ]
    }
   ],
   "source": [
    "history = model.fit(\n",
    "    train_sequence,\n",
    "    validation_data=val_sequence,\n",
    "    epochs=10,\n",
    ")"
   ]
  },
  {
   "cell_type": "markdown",
   "metadata": {},
   "source": [
    "Visualizing Training History"
   ]
  },
  {
   "cell_type": "code",
   "execution_count": null,
   "metadata": {},
   "outputs": [
    {
     "data": {
      "image/png": "[encoded data removed]",
      "text/plain": [
       "<Figure size 2000x300 with 2 Axes>"
      ]
     },
     "metadata": {},
     "output_type": "display_data"
    }
   ],
   "source": [
    "fig, ax = plt.subplots(1, 2, figsize=(20, 3))\n",
    "ax = ax.ravel()\n",
    "\n",
    "for i, metric in enumerate(['accuracy', 'loss']):\n",
    "    ax[i].plot(history.history[metric])\n",
    "    ax[i].plot(history.history['val_' + metric])\n",
    "    ax[i].set_title('Model {}'.format(metric))\n",
    "    ax[i].set_xlabel('epochs')\n",
    "    ax[i].set_ylabel(metric)\n",
    "    ax[i].legend(['train', 'val'])"
   ]
  },
  {
   "cell_type": "markdown",
   "metadata": {},
   "source": [
    "Model Evaluation"
   ]
  },
  {
   "cell_type": "code",
   "execution_count": null,
   "metadata": {},
   "outputs": [],
   "source": [
    "# TODO - Evaluate the model on the test set"
   ]
  }
 ],
 "metadata": {
  "kernelspec": {
   "display_name": "Python 3",
   "language": "python",
   "name": "python3"
  },
  "language_info": {
   "codemirror_mode": {
    "name": "ipython",
    "version": 3
   },
   "file_extension": ".py",
   "mimetype": "text/x-python",
   "name": "python",
   "nbconvert_exporter": "python",
   "pygments_lexer": "ipython3",
   "version": "3.8.10"
  }
 },
 "nbformat": 4,
 "nbformat_minor": 2
}
